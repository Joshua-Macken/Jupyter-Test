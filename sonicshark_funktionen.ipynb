{
 "cells": [
  {
   "cell_type": "code",
   "execution_count": null,
   "id": "05d51e35",
   "metadata": {
    "code_folding": []
   },
   "outputs": [],
   "source": [
    "import sqlite3\n",
    "import time\n",
    "import datetime\n",
    "import numpy as np\n",
    "import os,glob\n",
    "import pathlib\n",
    "from pathlib import Path\n",
    "import scipy.io.wavfile\n",
    "import scipy.signal\n",
    "\n",
    "def sonic_roh_import(Datei, Abtastrate, unterordner=''):\n",
    "    \n",
    "    Ordner = pathlib.Path(os.getcwd()).parent.resolve()\n",
    "    Ordner = Path(Ordner, unterordner)\n",
    "    filepath = Path(Ordner, Datei)\n",
    "\n",
    "    file = open(filepath, \"rb\")  \n",
    "    raw_data = np.fromfile(file, np.int16)\n",
    "\n",
    "    # Zeitachse berechnen\n",
    "    Zeit = np.linspace(0, len(raw_data)/Abtastrate, len(raw_data))# Zeit\n",
    "    \n",
    "    return raw_data, Zeit\n",
    "\n",
    "def sonic_feature_import(Datei, unterordner=''):\n",
    "\n",
    "    Ordner = os.getcwd()\n",
    "    Ordner = Ordner[0:-13] + '/' + unterordner # Ordnername '/Python' wird in OP Ordner[0:-7] abgezogen\n",
    "\n",
    "    dbfile = Ordner + '/' + Datei\n",
    "    con = sqlite3.connect(dbfile)\n",
    "    cur = con.cursor()\n",
    "\n",
    "    cur.execute('SELECT * FROM FeatureTable')\n",
    "\n",
    "    names = [description[0] for description in cur.description]\n",
    "    table = [a for a in cur.execute(\"SELECT name FROM sqlite_master WHERE type = 'table'\")]\n",
    "\n",
    "    cur.execute('SELECT * FROM FeatureTable')\n",
    "    length = len(cur.fetchall())\n",
    "\n",
    "    data = np.zeros((len(names), length))\n",
    "    [a, b] = data.shape \n",
    "    date_string = ''\n",
    "    z = 0\n",
    "\n",
    "    for line in cur.execute('SELECT * FROM FeatureTable'):# LIMIT 0,100'):\n",
    "        date_string = line[0]\n",
    "        unix = time.mktime(datetime.datetime.strptime(date_string, \"%Y-%m-%d %H:%M:%S.%f\").timetuple())\n",
    "        data[0,z] = unix\n",
    "        data[1:,z] = line[1:]\n",
    "        z += 1\n",
    "\n",
    "    data[0,:] -= data[0,0]\n",
    "\n",
    "    con.close()\n",
    "    \n",
    "    return data, names"
   ]
  }
 ],
 "metadata": {
  "kernelspec": {
   "display_name": "Python 3",
   "language": "python",
   "name": "python3"
  },
  "language_info": {
   "codemirror_mode": {
    "name": "ipython",
    "version": 3
   },
   "file_extension": ".py",
   "mimetype": "text/x-python",
   "name": "python",
   "nbconvert_exporter": "python",
   "pygments_lexer": "ipython3",
   "version": "3.8.8"
  },
  "toc": {
   "base_numbering": 1,
   "nav_menu": {},
   "number_sections": true,
   "sideBar": true,
   "skip_h1_title": false,
   "title_cell": "Table of Contents",
   "title_sidebar": "Contents",
   "toc_cell": false,
   "toc_position": {},
   "toc_section_display": true,
   "toc_window_display": false
  },
  "varInspector": {
   "cols": {
    "lenName": 16,
    "lenType": 16,
    "lenVar": 40
   },
   "kernels_config": {
    "python": {
     "delete_cmd_postfix": "",
     "delete_cmd_prefix": "del ",
     "library": "var_list.py",
     "varRefreshCmd": "print(var_dic_list())"
    },
    "r": {
     "delete_cmd_postfix": ") ",
     "delete_cmd_prefix": "rm(",
     "library": "var_list.r",
     "varRefreshCmd": "cat(var_dic_list()) "
    }
   },
   "oldHeight": 122.844,
   "position": {
    "height": "718px",
    "left": "1965px",
    "right": "20px",
    "top": "126px",
    "width": "490px"
   },
   "types_to_exclude": [
    "module",
    "function",
    "builtin_function_or_method",
    "instance",
    "_Feature"
   ],
   "varInspector_section_display": "none",
   "window_display": true
  }
 },
 "nbformat": 4,
 "nbformat_minor": 5
}
